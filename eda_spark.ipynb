{
 "cells": [
  {
   "cell_type": "code",
   "execution_count": 9,
   "metadata": {},
   "outputs": [],
   "source": [
    "df = spark.read.csv(\n",
    "    'data/yelp_business.csv', header=True#, mode=\"DROPMALFORMED\", schema=schema\n",
    ")"
   ]
  },
  {
   "cell_type": "code",
   "execution_count": 10,
   "metadata": {},
   "outputs": [
    {
     "data": {
      "text/plain": [
       "Row(business_id='FYWN1wneV18bWNgQjJ2GNg', name='\"\"\"Dental by Design\"\"\"', neighborhood=None, address='\"\"\"4855 E Warner Rd', city=' Ste B9\"\"\"', state='Ahwatukee', postal_code='AZ', latitude='85044', longitude='33.3306902', stars='-111.9785992', review_count='4.0', is_open='22', categories='1')"
      ]
     },
     "execution_count": 10,
     "metadata": {},
     "output_type": "execute_result"
    }
   ],
   "source": [
    "df.head()"
   ]
  },
  {
   "cell_type": "code",
   "execution_count": 12,
   "metadata": {},
   "outputs": [
    {
     "name": "stdout",
     "output_type": "stream",
     "text": [
      "+--------------------+\n",
      "|         business_id|\n",
      "+--------------------+\n",
      "|FYWN1wneV18bWNgQj...|\n",
      "|He-G7vWjzVUysIKrf...|\n",
      "|KQPW8lFf1y5BT2Mxi...|\n",
      "|8DShNS-LuFqpEWIp0...|\n",
      "|PfOCPjBrlQAnz__NX...|\n",
      "|o9eMRCWt5PkpLDE0g...|\n",
      "|kCoE3jvEtg6UVz5SO...|\n",
      "|OD2hnuuTJI9uotcKy...|\n",
      "|EsMcGiZaQuG1OOvL9...|\n",
      "|TGWhGNusxyMaA4kQV...|\n",
      "|XOSRcvtaKc_Q5H1SA...|\n",
      "|Y0eMNa5C-YU1RQOZf...|\n",
      "|xcgFnd-MwkZeO5G2H...|\n",
      "|NmZtoE3v8RdSJEczY...|\n",
      "|fNMVV_ZX7CJSDWQGd...|\n",
      "|l09JfMeQ6ynYs5MCJ...|\n",
      "|IQSlT5jGE6CCDhSG0...|\n",
      "|b2I2DXtZVnpUMCXp1...|\n",
      "|0FMKDOU8TJT1x87OK...|\n",
      "|Gu-xs3NIQTj3Mj2xY...|\n",
      "+--------------------+\n",
      "only showing top 20 rows\n",
      "\n"
     ]
    }
   ],
   "source": [
    "df.select('business_id').show()"
   ]
  },
  {
   "cell_type": "code",
   "execution_count": null,
   "metadata": {},
   "outputs": [],
   "source": []
  },
  {
   "cell_type": "code",
   "execution_count": null,
   "metadata": {},
   "outputs": [],
   "source": []
  }
 ],
 "metadata": {
  "kernelspec": {
   "display_name": "Python 3",
   "language": "python",
   "name": "python3"
  },
  "language_info": {
   "codemirror_mode": {
    "name": "ipython",
    "version": 3
   },
   "file_extension": ".py",
   "mimetype": "text/x-python",
   "name": "python",
   "nbconvert_exporter": "python",
   "pygments_lexer": "ipython3",
   "version": "3.6.4"
  }
 },
 "nbformat": 4,
 "nbformat_minor": 2
}
