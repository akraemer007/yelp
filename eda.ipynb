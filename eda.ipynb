{
 "cells": [
  {
   "cell_type": "code",
   "execution_count": 2,
   "metadata": {},
   "outputs": [],
   "source": [
    "import pandas as pd\n",
    "import numpy as np\n",
    "import matplotlib.pyplot as plt\n",
    "import seaborn as sns\n",
    "%matplotlib inline\n",
    "sns.set_style()"
   ]
  },
  {
   "cell_type": "code",
   "execution_count": 3,
   "metadata": {},
   "outputs": [],
   "source": [
    "yp_att_df = pd.read_csv('data/yelp_business_attributes.csv')"
   ]
  },
  {
   "cell_type": "code",
   "execution_count": 7,
   "metadata": {},
   "outputs": [
    {
     "name": "stdout",
     "output_type": "stream",
     "text": [
      "<class 'pandas.core.frame.DataFrame'>\n",
      "RangeIndex: 152041 entries, 0 to 152040\n",
      "Data columns (total 82 columns):\n",
      "business_id                          152041 non-null object\n",
      "AcceptsInsurance                     152041 non-null object\n",
      "ByAppointmentOnly                    152041 non-null object\n",
      "BusinessAcceptsCreditCards           152041 non-null object\n",
      "BusinessParking_garage               152041 non-null object\n",
      "BusinessParking_street               152041 non-null object\n",
      "BusinessParking_validated            152041 non-null object\n",
      "BusinessParking_lot                  152041 non-null object\n",
      "BusinessParking_valet                152041 non-null object\n",
      "HairSpecializesIn_coloring           152041 non-null object\n",
      "HairSpecializesIn_africanamerican    152041 non-null object\n",
      "HairSpecializesIn_curly              152041 non-null object\n",
      "HairSpecializesIn_perms              152041 non-null object\n",
      "HairSpecializesIn_kids               152041 non-null object\n",
      "HairSpecializesIn_extensions         152041 non-null object\n",
      "HairSpecializesIn_asian              152041 non-null object\n",
      "HairSpecializesIn_straightperms      152041 non-null object\n",
      "RestaurantsPriceRange2               152041 non-null object\n",
      "GoodForKids                          152041 non-null object\n",
      "WheelchairAccessible                 152041 non-null object\n",
      "BikeParking                          152041 non-null object\n",
      "Alcohol                              152041 non-null object\n",
      "HasTV                                152041 non-null object\n",
      "NoiseLevel                           152041 non-null object\n",
      "RestaurantsAttire                    152041 non-null object\n",
      "Music_dj                             152041 non-null object\n",
      "Music_background_music               152041 non-null object\n",
      "Music_no_music                       152041 non-null object\n",
      "Music_karaoke                        152041 non-null object\n",
      "Music_live                           152041 non-null object\n",
      "Music_video                          152041 non-null object\n",
      "Music_jukebox                        152041 non-null object\n",
      "Ambience_romantic                    152041 non-null object\n",
      "Ambience_intimate                    152041 non-null object\n",
      "Ambience_classy                      152041 non-null object\n",
      "Ambience_hipster                     152041 non-null object\n",
      "Ambience_divey                       152041 non-null object\n",
      "Ambience_touristy                    152041 non-null object\n",
      "Ambience_trendy                      152041 non-null object\n",
      "Ambience_upscale                     152041 non-null object\n",
      "Ambience_casual                      152041 non-null object\n",
      "RestaurantsGoodForGroups             152041 non-null object\n",
      "Caters                               152041 non-null object\n",
      "WiFi                                 152041 non-null object\n",
      "RestaurantsReservations              152041 non-null object\n",
      "RestaurantsTakeOut                   152041 non-null object\n",
      "HappyHour                            152041 non-null object\n",
      "GoodForDancing                       152041 non-null object\n",
      "RestaurantsTableService              152041 non-null object\n",
      "OutdoorSeating                       152041 non-null object\n",
      "RestaurantsDelivery                  152041 non-null object\n",
      "BestNights_monday                    152041 non-null object\n",
      "BestNights_tuesday                   152041 non-null object\n",
      "BestNights_friday                    152041 non-null object\n",
      "BestNights_wednesday                 152041 non-null object\n",
      "BestNights_thursday                  152041 non-null object\n",
      "BestNights_sunday                    152041 non-null object\n",
      "BestNights_saturday                  152041 non-null object\n",
      "GoodForMeal_dessert                  152041 non-null object\n",
      "GoodForMeal_latenight                152041 non-null object\n",
      "GoodForMeal_lunch                    152041 non-null object\n",
      "GoodForMeal_dinner                   152041 non-null object\n",
      "GoodForMeal_breakfast                152041 non-null object\n",
      "GoodForMeal_brunch                   152041 non-null object\n",
      "CoatCheck                            152041 non-null object\n",
      "Smoking                              152041 non-null object\n",
      "DriveThru                            152041 non-null object\n",
      "DogsAllowed                          152041 non-null object\n",
      "BusinessAcceptsBitcoin               152041 non-null object\n",
      "Open24Hours                          152041 non-null object\n",
      "BYOBCorkage                          152041 non-null object\n",
      "BYOB                                 152041 non-null object\n",
      "Corkage                              152041 non-null object\n",
      "DietaryRestrictions_dairy-free       152041 non-null object\n",
      "DietaryRestrictions_gluten-free      152041 non-null object\n",
      "DietaryRestrictions_vegan            152041 non-null object\n",
      "DietaryRestrictions_kosher           152041 non-null object\n",
      "DietaryRestrictions_halal            152041 non-null object\n",
      "DietaryRestrictions_soy-free         152041 non-null object\n",
      "DietaryRestrictions_vegetarian       152041 non-null object\n",
      "AgesAllowed                          152041 non-null object\n",
      "RestaurantsCounterService            152041 non-null object\n",
      "dtypes: object(82)\n",
      "memory usage: 95.1+ MB\n"
     ]
    }
   ],
   "source": [
    "yp_att_df.info()"
   ]
  },
  {
   "cell_type": "code",
   "execution_count": null,
   "metadata": {},
   "outputs": [],
   "source": []
  },
  {
   "cell_type": "code",
   "execution_count": null,
   "metadata": {},
   "outputs": [],
   "source": []
  }
 ],
 "metadata": {
  "kernelspec": {
   "display_name": "Python 3",
   "language": "python",
   "name": "python3"
  },
  "language_info": {
   "codemirror_mode": {
    "name": "ipython",
    "version": 3
   },
   "file_extension": ".py",
   "mimetype": "text/x-python",
   "name": "python",
   "nbconvert_exporter": "python",
   "pygments_lexer": "ipython3",
   "version": "3.6.4"
  }
 },
 "nbformat": 4,
 "nbformat_minor": 2
}
